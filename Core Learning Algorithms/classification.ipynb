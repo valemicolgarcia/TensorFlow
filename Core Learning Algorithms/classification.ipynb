{
 "cells": [
  {
   "cell_type": "markdown",
   "metadata": {},
   "source": [
    "# Importing libraries"
   ]
  },
  {
   "cell_type": "code",
   "execution_count": 2,
   "metadata": {},
   "outputs": [
    {
     "name": "stdout",
     "output_type": "stream",
     "text": [
      "WARNING:tensorflow:From C:\\Users\\VICTUS\\AppData\\Local\\Packages\\PythonSoftwareFoundation.Python.3.11_qbz5n2kfra8p0\\LocalCache\\local-packages\\Python311\\site-packages\\keras\\src\\losses.py:2976: The name tf.losses.sparse_softmax_cross_entropy is deprecated. Please use tf.compat.v1.losses.sparse_softmax_cross_entropy instead.\n",
      "\n"
     ]
    }
   ],
   "source": [
    "from __future__ import absolute_import, division, print_function, unicode_literals\n",
    "\n",
    "import numpy as np\n",
    "import pandas as pd\n",
    "import matplotlib.pyplot as plt\n",
    "from IPython.display import clear_output\n",
    "from six.moves import urllib\n",
    "import tensorflow as tf\n",
    "import tensorflow.compat.v2.feature_column as fc"
   ]
  },
  {
   "cell_type": "markdown",
   "metadata": {},
   "source": [
    "# Dataset"
   ]
  },
  {
   "cell_type": "markdown",
   "metadata": {},
   "source": [
    "This specific ds separates flowers into 3 different classes of species\n",
    "- setosa\n",
    "- versicolor\n",
    "- virginica\n",
    "The information about each flower is the following\n",
    "- sepal length\n",
    "- sepal width\n",
    "- petal length\n",
    "- petal width"
   ]
  },
  {
   "cell_type": "code",
   "execution_count": 3,
   "metadata": {},
   "outputs": [],
   "source": [
    "CSV_COLUMN_NAMES = ['SepalLength', 'SepalWidth', 'PetalLength', 'PetalWidth', 'Species']\n",
    "SPECIES = ['Setosa', 'Versicolor', 'Virginica']"
   ]
  },
  {
   "cell_type": "code",
   "execution_count": 4,
   "metadata": {},
   "outputs": [],
   "source": [
    "train_path = tf.keras.utils.get_file('iris_training.csv', 'https://storage.googleapis.com/download.tensorflow.org/data/iris_training.csv')\n",
    "test_path = tf.keras.utils.get_file('iris_test.csv', 'https://storage.googleapis.com/download.tensorflow.org/data/iris_test.csv')\n",
    "#here we use keras (a module inside of TensorFlow) to grab our datasets and read them into a pandas dataframe"
   ]
  },
  {
   "cell_type": "code",
   "execution_count": 5,
   "metadata": {},
   "outputs": [],
   "source": [
    "train = pd.read_csv(train_path, names=CSV_COLUMN_NAMES, header=0)\n",
    "test = pd.read_csv(test_path, names = CSV_COLUMN_NAMES, header=0)\n"
   ]
  },
  {
   "cell_type": "code",
   "execution_count": 6,
   "metadata": {},
   "outputs": [
    {
     "data": {
      "text/html": [
       "<div>\n",
       "<style scoped>\n",
       "    .dataframe tbody tr th:only-of-type {\n",
       "        vertical-align: middle;\n",
       "    }\n",
       "\n",
       "    .dataframe tbody tr th {\n",
       "        vertical-align: top;\n",
       "    }\n",
       "\n",
       "    .dataframe thead th {\n",
       "        text-align: right;\n",
       "    }\n",
       "</style>\n",
       "<table border=\"1\" class=\"dataframe\">\n",
       "  <thead>\n",
       "    <tr style=\"text-align: right;\">\n",
       "      <th></th>\n",
       "      <th>SepalLength</th>\n",
       "      <th>SepalWidth</th>\n",
       "      <th>PetalLength</th>\n",
       "      <th>PetalWidth</th>\n",
       "      <th>Species</th>\n",
       "    </tr>\n",
       "  </thead>\n",
       "  <tbody>\n",
       "    <tr>\n",
       "      <th>0</th>\n",
       "      <td>6.4</td>\n",
       "      <td>2.8</td>\n",
       "      <td>5.6</td>\n",
       "      <td>2.2</td>\n",
       "      <td>2</td>\n",
       "    </tr>\n",
       "    <tr>\n",
       "      <th>1</th>\n",
       "      <td>5.0</td>\n",
       "      <td>2.3</td>\n",
       "      <td>3.3</td>\n",
       "      <td>1.0</td>\n",
       "      <td>1</td>\n",
       "    </tr>\n",
       "    <tr>\n",
       "      <th>2</th>\n",
       "      <td>4.9</td>\n",
       "      <td>2.5</td>\n",
       "      <td>4.5</td>\n",
       "      <td>1.7</td>\n",
       "      <td>2</td>\n",
       "    </tr>\n",
       "    <tr>\n",
       "      <th>3</th>\n",
       "      <td>4.9</td>\n",
       "      <td>3.1</td>\n",
       "      <td>1.5</td>\n",
       "      <td>0.1</td>\n",
       "      <td>0</td>\n",
       "    </tr>\n",
       "    <tr>\n",
       "      <th>4</th>\n",
       "      <td>5.7</td>\n",
       "      <td>3.8</td>\n",
       "      <td>1.7</td>\n",
       "      <td>0.3</td>\n",
       "      <td>0</td>\n",
       "    </tr>\n",
       "  </tbody>\n",
       "</table>\n",
       "</div>"
      ],
      "text/plain": [
       "   SepalLength  SepalWidth  PetalLength  PetalWidth  Species\n",
       "0          6.4         2.8          5.6         2.2        2\n",
       "1          5.0         2.3          3.3         1.0        1\n",
       "2          4.9         2.5          4.5         1.7        2\n",
       "3          4.9         3.1          1.5         0.1        0\n",
       "4          5.7         3.8          1.7         0.3        0"
      ]
     },
     "execution_count": 6,
     "metadata": {},
     "output_type": "execute_result"
    }
   ],
   "source": [
    "train.head()"
   ]
  },
  {
   "cell_type": "code",
   "execution_count": 7,
   "metadata": {},
   "outputs": [
    {
     "data": {
      "text/html": [
       "<div>\n",
       "<style scoped>\n",
       "    .dataframe tbody tr th:only-of-type {\n",
       "        vertical-align: middle;\n",
       "    }\n",
       "\n",
       "    .dataframe tbody tr th {\n",
       "        vertical-align: top;\n",
       "    }\n",
       "\n",
       "    .dataframe thead th {\n",
       "        text-align: right;\n",
       "    }\n",
       "</style>\n",
       "<table border=\"1\" class=\"dataframe\">\n",
       "  <thead>\n",
       "    <tr style=\"text-align: right;\">\n",
       "      <th></th>\n",
       "      <th>SepalLength</th>\n",
       "      <th>SepalWidth</th>\n",
       "      <th>PetalLength</th>\n",
       "      <th>PetalWidth</th>\n",
       "    </tr>\n",
       "  </thead>\n",
       "  <tbody>\n",
       "    <tr>\n",
       "      <th>0</th>\n",
       "      <td>6.4</td>\n",
       "      <td>2.8</td>\n",
       "      <td>5.6</td>\n",
       "      <td>2.2</td>\n",
       "    </tr>\n",
       "    <tr>\n",
       "      <th>1</th>\n",
       "      <td>5.0</td>\n",
       "      <td>2.3</td>\n",
       "      <td>3.3</td>\n",
       "      <td>1.0</td>\n",
       "    </tr>\n",
       "    <tr>\n",
       "      <th>2</th>\n",
       "      <td>4.9</td>\n",
       "      <td>2.5</td>\n",
       "      <td>4.5</td>\n",
       "      <td>1.7</td>\n",
       "    </tr>\n",
       "    <tr>\n",
       "      <th>3</th>\n",
       "      <td>4.9</td>\n",
       "      <td>3.1</td>\n",
       "      <td>1.5</td>\n",
       "      <td>0.1</td>\n",
       "    </tr>\n",
       "    <tr>\n",
       "      <th>4</th>\n",
       "      <td>5.7</td>\n",
       "      <td>3.8</td>\n",
       "      <td>1.7</td>\n",
       "      <td>0.3</td>\n",
       "    </tr>\n",
       "  </tbody>\n",
       "</table>\n",
       "</div>"
      ],
      "text/plain": [
       "   SepalLength  SepalWidth  PetalLength  PetalWidth\n",
       "0          6.4         2.8          5.6         2.2\n",
       "1          5.0         2.3          3.3         1.0\n",
       "2          4.9         2.5          4.5         1.7\n",
       "3          4.9         3.1          1.5         0.1\n",
       "4          5.7         3.8          1.7         0.3"
      ]
     },
     "execution_count": 7,
     "metadata": {},
     "output_type": "execute_result"
    }
   ],
   "source": [
    "train_y = train.pop('Species')\n",
    "test_y = test.pop ('Species')\n",
    "train.head()"
   ]
  },
  {
   "cell_type": "code",
   "execution_count": 8,
   "metadata": {},
   "outputs": [
    {
     "data": {
      "text/plain": [
       "(120, 4)"
      ]
     },
     "execution_count": 8,
     "metadata": {},
     "output_type": "execute_result"
    }
   ],
   "source": [
    "train.shape"
   ]
  },
  {
   "cell_type": "code",
   "execution_count": 9,
   "metadata": {},
   "outputs": [
    {
     "data": {
      "text/plain": [
       "0    2\n",
       "1    1\n",
       "2    2\n",
       "3    0\n",
       "4    0\n",
       "Name: Species, dtype: int64"
      ]
     },
     "execution_count": 9,
     "metadata": {},
     "output_type": "execute_result"
    }
   ],
   "source": [
    "train_y.head()"
   ]
  },
  {
   "cell_type": "markdown",
   "metadata": {},
   "source": [
    "# Input Function"
   ]
  },
  {
   "cell_type": "code",
   "execution_count": 10,
   "metadata": {},
   "outputs": [],
   "source": [
    "def input_fn (features, labels, training=True, batch_size=256):\n",
    "    #convert the inputs to a dataset\n",
    "    dataset = tf.data.Dataset.from_tensor_slices((dict(features), labels))\n",
    "\n",
    "    #shuffle and repeat if you are in training mode\n",
    "    if training:\n",
    "        dataset = dataset.shuffle(1000).repeat()\n",
    "        \n",
    "    return dataset.batch(batch_size)"
   ]
  },
  {
   "cell_type": "code",
   "execution_count": 11,
   "metadata": {},
   "outputs": [
    {
     "data": {
      "text/plain": [
       "Index(['SepalLength', 'SepalWidth', 'PetalLength', 'PetalWidth'], dtype='object')"
      ]
     },
     "execution_count": 11,
     "metadata": {},
     "output_type": "execute_result"
    }
   ],
   "source": [
    "train.keys()"
   ]
  },
  {
   "cell_type": "markdown",
   "metadata": {},
   "source": [
    "# Feature Columns"
   ]
  },
  {
   "cell_type": "code",
   "execution_count": 12,
   "metadata": {},
   "outputs": [
    {
     "name": "stdout",
     "output_type": "stream",
     "text": [
      "WARNING:tensorflow:From C:\\Users\\VICTUS\\AppData\\Local\\Temp\\ipykernel_18044\\3692720018.py:5: numeric_column (from tensorflow.python.feature_column.feature_column_v2) is deprecated and will be removed in a future version.\n",
      "Instructions for updating:\n",
      "Use Keras preprocessing layers instead, either directly or via the `tf.keras.utils.FeatureSpace` utility. Each of `tf.feature_column.*` has a functional equivalent in `tf.keras.layers` for feature preprocessing when training a Keras model.\n",
      "[NumericColumn(key='SepalLength', shape=(1,), default_value=None, dtype=tf.float32, normalizer_fn=None), NumericColumn(key='SepalWidth', shape=(1,), default_value=None, dtype=tf.float32, normalizer_fn=None), NumericColumn(key='PetalLength', shape=(1,), default_value=None, dtype=tf.float32, normalizer_fn=None), NumericColumn(key='PetalWidth', shape=(1,), default_value=None, dtype=tf.float32, normalizer_fn=None)]\n"
     ]
    }
   ],
   "source": [
    "#feature columns describe how to use the input.\n",
    "#crea una lista de columnas de caracteristicas que se pueden utilizar como entrada para un modelo en TensorFlow\n",
    "my_feature_columns = []\n",
    "for key in train.keys():\n",
    "    my_feature_columns.append(tf.feature_column.numeric_column(key=key))\n",
    "print(my_feature_columns)"
   ]
  },
  {
   "cell_type": "markdown",
   "metadata": {},
   "source": [
    "# Building the model\n"
   ]
  },
  {
   "cell_type": "markdown",
   "metadata": {},
   "source": [
    "We have two options\n",
    "- DNNClassifier (deep neural network)\n",
    "- LinearClassifier"
   ]
  },
  {
   "cell_type": "markdown",
   "metadata": {},
   "source": [
    "DNN seems to be the best choice, this is because we may not be able to find a linear"
   ]
  },
  {
   "cell_type": "code",
   "execution_count": 14,
   "metadata": {},
   "outputs": [
    {
     "name": "stdout",
     "output_type": "stream",
     "text": [
      "WARNING:tensorflow:From C:\\Users\\VICTUS\\AppData\\Local\\Temp\\ipykernel_18044\\742996381.py:1: DNNClassifierV2.__init__ (from tensorflow_estimator.python.estimator.canned.dnn) is deprecated and will be removed in a future version.\n",
      "Instructions for updating:\n",
      "Use tf.keras instead.\n",
      "WARNING:tensorflow:From C:\\Users\\VICTUS\\AppData\\Local\\Packages\\PythonSoftwareFoundation.Python.3.11_qbz5n2kfra8p0\\LocalCache\\local-packages\\Python311\\site-packages\\tensorflow_estimator\\python\\estimator\\head\\head_utils.py:59: MultiClassHead.__init__ (from tensorflow_estimator.python.estimator.head.multi_class_head) is deprecated and will be removed in a future version.\n",
      "Instructions for updating:\n",
      "Use tf.keras instead.\n",
      "WARNING:tensorflow:From C:\\Users\\VICTUS\\AppData\\Local\\Packages\\PythonSoftwareFoundation.Python.3.11_qbz5n2kfra8p0\\LocalCache\\local-packages\\Python311\\site-packages\\tensorflow_estimator\\python\\estimator\\head\\base_head.py:696: The name tf.debugging.assert_greater is deprecated. Please use tf.compat.v1.debugging.assert_greater instead.\n",
      "\n",
      "WARNING:tensorflow:From C:\\Users\\VICTUS\\AppData\\Local\\Packages\\PythonSoftwareFoundation.Python.3.11_qbz5n2kfra8p0\\LocalCache\\local-packages\\Python311\\site-packages\\tensorflow_estimator\\python\\estimator\\canned\\dnn.py:759: Estimator.__init__ (from tensorflow_estimator.python.estimator.estimator) is deprecated and will be removed in a future version.\n",
      "Instructions for updating:\n",
      "Use tf.keras instead.\n",
      "WARNING:tensorflow:From C:\\Users\\VICTUS\\AppData\\Local\\Packages\\PythonSoftwareFoundation.Python.3.11_qbz5n2kfra8p0\\LocalCache\\local-packages\\Python311\\site-packages\\tensorflow_estimator\\python\\estimator\\estimator.py:1844: RunConfig.__init__ (from tensorflow_estimator.python.estimator.run_config) is deprecated and will be removed in a future version.\n",
      "Instructions for updating:\n",
      "Use tf.keras instead.\n",
      "WARNING:tensorflow:From C:\\Users\\VICTUS\\AppData\\Local\\Packages\\PythonSoftwareFoundation.Python.3.11_qbz5n2kfra8p0\\LocalCache\\local-packages\\Python311\\site-packages\\tensorflow_estimator\\python\\estimator\\estimator.py:1845: The name tf.logging.info is deprecated. Please use tf.compat.v1.logging.info instead.\n",
      "\n",
      "INFO:tensorflow:Using default config.\n",
      "WARNING:tensorflow:From C:\\Users\\VICTUS\\AppData\\Local\\Packages\\PythonSoftwareFoundation.Python.3.11_qbz5n2kfra8p0\\LocalCache\\local-packages\\Python311\\site-packages\\tensorflow_estimator\\python\\estimator\\run_config.py:329: The name tf.GraphOptions is deprecated. Please use tf.compat.v1.GraphOptions instead.\n",
      "\n",
      "WARNING:tensorflow:Using temporary folder as model directory: C:\\Users\\VICTUS\\AppData\\Local\\Temp\\tmp2t9bslfv\n",
      "INFO:tensorflow:Using config: {'_model_dir': 'C:\\\\Users\\\\VICTUS\\\\AppData\\\\Local\\\\Temp\\\\tmp2t9bslfv', '_tf_random_seed': None, '_save_summary_steps': 100, '_save_checkpoints_steps': None, '_save_checkpoints_secs': 600, '_session_config': allow_soft_placement: true\n",
      "graph_options {\n",
      "  rewrite_options {\n",
      "    meta_optimizer_iterations: ONE\n",
      "  }\n",
      "}\n",
      ", '_keep_checkpoint_max': 5, '_keep_checkpoint_every_n_hours': 10000, '_log_step_count_steps': 100, '_train_distribute': None, '_device_fn': None, '_protocol': None, '_eval_distribute': None, '_experimental_distribute': None, '_experimental_max_worker_delay_secs': None, '_session_creation_timeout_secs': 7200, '_checkpoint_save_graph_def': True, '_service': None, '_cluster_spec': ClusterSpec({}), '_task_type': 'worker', '_task_id': 0, '_global_id_in_cluster': 0, '_master': '', '_evaluation_master': '', '_is_chief': True, '_num_ps_replicas': 0, '_num_worker_replicas': 1}\n"
     ]
    }
   ],
   "source": [
    "\n",
    "classifier = tf.estimator.DNNClassifier(\n",
    "    feature_columns = my_feature_columns,\n",
    "    #two hidden layers of 30 and 10 nodes respectively ---> they are the middle layers in the neural network\n",
    "    hidden_units = [30,10],\n",
    "    #the model must choose between 3 classes\n",
    "    n_classes = 3\n",
    ")"
   ]
  },
  {
   "cell_type": "markdown",
   "metadata": {},
   "source": [
    "# Training"
   ]
  },
  {
   "cell_type": "code",
   "execution_count": 20,
   "metadata": {},
   "outputs": [
    {
     "name": "stdout",
     "output_type": "stream",
     "text": [
      "INFO:tensorflow:Calling model_fn.\n",
      "INFO:tensorflow:Done calling model_fn.\n",
      "INFO:tensorflow:Create CheckpointSaverHook.\n",
      "INFO:tensorflow:Graph was finalized.\n",
      "INFO:tensorflow:Restoring parameters from C:\\Users\\VICTUS\\AppData\\Local\\Temp\\tmp2t9bslfv\\model.ckpt-5000\n",
      "WARNING:tensorflow:From C:\\Users\\VICTUS\\AppData\\Local\\Packages\\PythonSoftwareFoundation.Python.3.11_qbz5n2kfra8p0\\LocalCache\\local-packages\\Python311\\site-packages\\tensorflow\\python\\training\\saver.py:1176: get_checkpoint_mtimes (from tensorflow.python.checkpoint.checkpoint_management) is deprecated and will be removed in a future version.\n",
      "Instructions for updating:\n",
      "Use standard file utilities to get mtimes.\n",
      "INFO:tensorflow:Running local_init_op.\n",
      "INFO:tensorflow:Done running local_init_op.\n",
      "INFO:tensorflow:Calling checkpoint listeners before saving checkpoint 5000...\n",
      "INFO:tensorflow:Saving checkpoints for 5000 into C:\\Users\\VICTUS\\AppData\\Local\\Temp\\tmp2t9bslfv\\model.ckpt.\n",
      "INFO:tensorflow:Calling checkpoint listeners after saving checkpoint 5000...\n",
      "INFO:tensorflow:loss = 0.8196893, step = 5000\n",
      "INFO:tensorflow:global_step/sec: 817.555\n",
      "INFO:tensorflow:loss = 0.8180875, step = 5100 (0.125 sec)\n",
      "INFO:tensorflow:global_step/sec: 1286.72\n",
      "INFO:tensorflow:loss = 0.80377984, step = 5200 (0.076 sec)\n",
      "INFO:tensorflow:global_step/sec: 1209.28\n",
      "INFO:tensorflow:loss = 0.786485, step = 5300 (0.084 sec)\n",
      "INFO:tensorflow:global_step/sec: 1199.03\n",
      "INFO:tensorflow:loss = 0.7718733, step = 5400 (0.082 sec)\n",
      "INFO:tensorflow:global_step/sec: 1299.19\n",
      "INFO:tensorflow:loss = 0.76028377, step = 5500 (0.077 sec)\n",
      "INFO:tensorflow:global_step/sec: 1249.9\n",
      "INFO:tensorflow:loss = 0.7497895, step = 5600 (0.080 sec)\n",
      "INFO:tensorflow:global_step/sec: 1158.84\n",
      "INFO:tensorflow:loss = 0.74122345, step = 5700 (0.086 sec)\n",
      "INFO:tensorflow:global_step/sec: 1224.4\n",
      "INFO:tensorflow:loss = 0.73237574, step = 5800 (0.082 sec)\n",
      "INFO:tensorflow:global_step/sec: 1128.09\n",
      "INFO:tensorflow:loss = 0.7250068, step = 5900 (0.089 sec)\n",
      "INFO:tensorflow:global_step/sec: 1115.26\n",
      "INFO:tensorflow:loss = 0.7186806, step = 6000 (0.090 sec)\n",
      "INFO:tensorflow:global_step/sec: 1201.81\n",
      "INFO:tensorflow:loss = 0.7104549, step = 6100 (0.084 sec)\n",
      "INFO:tensorflow:global_step/sec: 1181.43\n",
      "INFO:tensorflow:loss = 0.69602513, step = 6200 (0.084 sec)\n",
      "INFO:tensorflow:global_step/sec: 1250.06\n",
      "INFO:tensorflow:loss = 0.68879557, step = 6300 (0.080 sec)\n",
      "INFO:tensorflow:global_step/sec: 1233.76\n",
      "INFO:tensorflow:loss = 0.6828183, step = 6400 (0.081 sec)\n",
      "INFO:tensorflow:global_step/sec: 1165.24\n",
      "INFO:tensorflow:loss = 0.6732745, step = 6500 (0.087 sec)\n",
      "INFO:tensorflow:global_step/sec: 1264.74\n",
      "INFO:tensorflow:loss = 0.66548777, step = 6600 (0.078 sec)\n",
      "INFO:tensorflow:global_step/sec: 1302.37\n",
      "INFO:tensorflow:loss = 0.66105986, step = 6700 (0.077 sec)\n",
      "INFO:tensorflow:global_step/sec: 1275.2\n",
      "INFO:tensorflow:loss = 0.6559136, step = 6800 (0.078 sec)\n",
      "INFO:tensorflow:global_step/sec: 1252.89\n",
      "INFO:tensorflow:loss = 0.6431324, step = 6900 (0.080 sec)\n",
      "INFO:tensorflow:global_step/sec: 1299.59\n",
      "INFO:tensorflow:loss = 0.6340877, step = 7000 (0.077 sec)\n",
      "INFO:tensorflow:global_step/sec: 1262.23\n",
      "INFO:tensorflow:loss = 0.63711, step = 7100 (0.079 sec)\n",
      "INFO:tensorflow:global_step/sec: 1288.63\n",
      "INFO:tensorflow:loss = 0.6337799, step = 7200 (0.078 sec)\n",
      "INFO:tensorflow:global_step/sec: 1306.87\n",
      "INFO:tensorflow:loss = 0.62353003, step = 7300 (0.076 sec)\n",
      "INFO:tensorflow:global_step/sec: 1279.38\n",
      "INFO:tensorflow:loss = 0.6146648, step = 7400 (0.078 sec)\n",
      "INFO:tensorflow:global_step/sec: 1304.17\n",
      "INFO:tensorflow:loss = 0.6165252, step = 7500 (0.077 sec)\n",
      "INFO:tensorflow:global_step/sec: 1312.21\n",
      "INFO:tensorflow:loss = 0.60863215, step = 7600 (0.076 sec)\n",
      "INFO:tensorflow:global_step/sec: 1273.16\n",
      "INFO:tensorflow:loss = 0.59944916, step = 7700 (0.079 sec)\n",
      "INFO:tensorflow:global_step/sec: 1309\n",
      "INFO:tensorflow:loss = 0.5944302, step = 7800 (0.078 sec)\n",
      "INFO:tensorflow:global_step/sec: 1237.6\n",
      "INFO:tensorflow:loss = 0.58999354, step = 7900 (0.079 sec)\n",
      "INFO:tensorflow:global_step/sec: 1266.88\n",
      "INFO:tensorflow:loss = 0.5853504, step = 8000 (0.079 sec)\n",
      "INFO:tensorflow:global_step/sec: 1266.4\n",
      "INFO:tensorflow:loss = 0.5884629, step = 8100 (0.079 sec)\n",
      "INFO:tensorflow:global_step/sec: 1316.02\n",
      "INFO:tensorflow:loss = 0.586264, step = 8200 (0.077 sec)\n",
      "INFO:tensorflow:global_step/sec: 1267.05\n",
      "INFO:tensorflow:loss = 0.5732175, step = 8300 (0.078 sec)\n",
      "INFO:tensorflow:global_step/sec: 1263.5\n",
      "INFO:tensorflow:loss = 0.5613711, step = 8400 (0.078 sec)\n",
      "INFO:tensorflow:global_step/sec: 1309.03\n",
      "INFO:tensorflow:loss = 0.5668118, step = 8500 (0.077 sec)\n",
      "INFO:tensorflow:global_step/sec: 1250.33\n",
      "INFO:tensorflow:loss = 0.55922437, step = 8600 (0.080 sec)\n",
      "INFO:tensorflow:global_step/sec: 1308.32\n",
      "INFO:tensorflow:loss = 0.5540912, step = 8700 (0.076 sec)\n",
      "INFO:tensorflow:global_step/sec: 1299.96\n",
      "INFO:tensorflow:loss = 0.55387175, step = 8800 (0.077 sec)\n",
      "INFO:tensorflow:global_step/sec: 1320.62\n",
      "INFO:tensorflow:loss = 0.5516902, step = 8900 (0.076 sec)\n",
      "INFO:tensorflow:global_step/sec: 1285.09\n",
      "INFO:tensorflow:loss = 0.5478506, step = 9000 (0.078 sec)\n",
      "INFO:tensorflow:global_step/sec: 1257.15\n",
      "INFO:tensorflow:loss = 0.5420915, step = 9100 (0.080 sec)\n",
      "INFO:tensorflow:global_step/sec: 1319.21\n",
      "INFO:tensorflow:loss = 0.53965455, step = 9200 (0.075 sec)\n",
      "INFO:tensorflow:global_step/sec: 1341.31\n",
      "INFO:tensorflow:loss = 0.52978563, step = 9300 (0.076 sec)\n",
      "INFO:tensorflow:global_step/sec: 1313.37\n",
      "INFO:tensorflow:loss = 0.5334016, step = 9400 (0.075 sec)\n",
      "INFO:tensorflow:global_step/sec: 1314.83\n",
      "INFO:tensorflow:loss = 0.5242237, step = 9500 (0.078 sec)\n",
      "INFO:tensorflow:global_step/sec: 1324.68\n",
      "INFO:tensorflow:loss = 0.519261, step = 9600 (0.074 sec)\n",
      "INFO:tensorflow:global_step/sec: 1331.08\n",
      "INFO:tensorflow:loss = 0.52280855, step = 9700 (0.075 sec)\n",
      "INFO:tensorflow:global_step/sec: 1318.24\n",
      "INFO:tensorflow:loss = 0.51204145, step = 9800 (0.076 sec)\n",
      "INFO:tensorflow:global_step/sec: 1326.85\n",
      "INFO:tensorflow:loss = 0.5181031, step = 9900 (0.075 sec)\n",
      "INFO:tensorflow:Calling checkpoint listeners before saving checkpoint 10000...\n",
      "INFO:tensorflow:Saving checkpoints for 10000 into C:\\Users\\VICTUS\\AppData\\Local\\Temp\\tmp2t9bslfv\\model.ckpt.\n",
      "INFO:tensorflow:Calling checkpoint listeners after saving checkpoint 10000...\n",
      "INFO:tensorflow:Loss for final step: 0.5098896.\n"
     ]
    },
    {
     "data": {
      "text/plain": [
       "<tensorflow_estimator.python.estimator.canned.dnn.DNNClassifierV2 at 0x1d19ed054d0>"
      ]
     },
     "execution_count": 20,
     "metadata": {},
     "output_type": "execute_result"
    }
   ],
   "source": [
    "classifier.train(\n",
    "    input_fn=lambda: input_fn (train, train_y, training=True),\n",
    "    steps=5000\n",
    ")"
   ]
  },
  {
   "cell_type": "code",
   "execution_count": 21,
   "metadata": {},
   "outputs": [
    {
     "name": "stdout",
     "output_type": "stream",
     "text": [
      "INFO:tensorflow:Calling model_fn.\n",
      "INFO:tensorflow:Done calling model_fn.\n",
      "INFO:tensorflow:Starting evaluation at 2024-07-31T19:50:30\n",
      "INFO:tensorflow:Graph was finalized.\n",
      "INFO:tensorflow:Restoring parameters from C:\\Users\\VICTUS\\AppData\\Local\\Temp\\tmp2t9bslfv\\model.ckpt-10000\n",
      "INFO:tensorflow:Running local_init_op.\n",
      "INFO:tensorflow:Done running local_init_op.\n",
      "INFO:tensorflow:Inference Time : 0.18663s\n",
      "INFO:tensorflow:Finished evaluation at 2024-07-31-19:50:30\n",
      "INFO:tensorflow:Saving dict for global step 10000: accuracy = 0.8333333, average_loss = 0.5652116, global_step = 10000, loss = 0.5652116\n",
      "INFO:tensorflow:Saving 'checkpoint_path' summary for global step 10000: C:\\Users\\VICTUS\\AppData\\Local\\Temp\\tmp2t9bslfv\\model.ckpt-10000\n",
      "\n",
      "Test set accuracy: 0.833\n",
      "\n"
     ]
    }
   ],
   "source": [
    "eval_result = classifier.evaluate(input_fn=lambda: input_fn (test, test_y, training=False))\n",
    "print ('\\nTest set accuracy: {accuracy:0.3f}\\n'.format(**eval_result))"
   ]
  },
  {
   "cell_type": "markdown",
   "metadata": {},
   "source": [
    "# Predictions\n"
   ]
  },
  {
   "cell_type": "code",
   "execution_count": 22,
   "metadata": {},
   "outputs": [
    {
     "name": "stdout",
     "output_type": "stream",
     "text": [
      "Please type numeric values as prompted\n",
      "INFO:tensorflow:Calling model_fn.\n",
      "WARNING:tensorflow:From C:\\Users\\VICTUS\\AppData\\Local\\Packages\\PythonSoftwareFoundation.Python.3.11_qbz5n2kfra8p0\\LocalCache\\local-packages\\Python311\\site-packages\\tensorflow_estimator\\python\\estimator\\head\\base_head.py:786: ClassificationOutput.__init__ (from tensorflow.python.saved_model.model_utils.export_output) is deprecated and will be removed in a future version.\n",
      "Instructions for updating:\n",
      "Use tf.keras instead.\n",
      "WARNING:tensorflow:From C:\\Users\\VICTUS\\AppData\\Local\\Packages\\PythonSoftwareFoundation.Python.3.11_qbz5n2kfra8p0\\LocalCache\\local-packages\\Python311\\site-packages\\tensorflow_estimator\\python\\estimator\\head\\multi_class_head.py:455: PredictOutput.__init__ (from tensorflow.python.saved_model.model_utils.export_output) is deprecated and will be removed in a future version.\n",
      "Instructions for updating:\n",
      "Use tf.keras instead.\n",
      "INFO:tensorflow:Done calling model_fn.\n",
      "INFO:tensorflow:Graph was finalized.\n",
      "INFO:tensorflow:Restoring parameters from C:\\Users\\VICTUS\\AppData\\Local\\Temp\\tmp2t9bslfv\\model.ckpt-10000\n",
      "INFO:tensorflow:Running local_init_op.\n",
      "INFO:tensorflow:Done running local_init_op.\n",
      "Prediction is \"Virginica\" (87.8%)\n"
     ]
    }
   ],
   "source": [
    "#funcion que crea un dataset de tensorflow\n",
    "def input_fn (features, batch_size=256):\n",
    "    #convert the inputs to a Dataset without labels\n",
    "    return tf.data.Dataset.from_tensor_slices(dict(features)).batch(batch_size)\n",
    "\n",
    "#definicion de las caracteristicas y preparacion del diccionario predict\n",
    "features = ['SepalLength', 'SepalWidth', 'PetalLength', 'PetalWidth']\n",
    "predict = {}\n",
    "\n",
    "\n",
    "#solicitud de entrada al usuario\n",
    "print(\"Please type numeric values as prompted\")\n",
    "for feature in features:\n",
    "    valid = True\n",
    "    while valid:\n",
    "        val = input(feature + ': ')\n",
    "        if not val.isdigit(): valid = False\n",
    "    \n",
    "    predict[feature] = [float(val)]\n",
    "\n",
    "#generacion de predicciones\n",
    "predictions = classifier.predict(input_fn=lambda:input_fn(predict))\n",
    "\n",
    "#iteracion sobre las predicciones\n",
    "#toma cada prediccion realizada por el modelo, identifica la clase a la que pertenece esa prediccion \n",
    "#y calcula la probabilidad de que esa prediccion sea correcta\n",
    "for pred_dict in predictions:\n",
    "    class_id = pred_dict['class_ids'][0]\n",
    "    probability = pred_dict['probabilities'][class_id]\n",
    "\n",
    "    print('Prediction is \"{}\" ({:.1f}%)'.format(SPECIES[class_id], 100 * probability))"
   ]
  },
  {
   "cell_type": "code",
   "execution_count": 23,
   "metadata": {},
   "outputs": [],
   "source": [
    "#Here ir some example input and expected classes to try above\n",
    "expected = ['Setosa', 'Versicolor', 'Virginica']\n",
    "predict_x = {\n",
    "    'SepalLength': [5.1, 5.9, 6.9],\n",
    "    'SepalWidth': [3.3, 3.0, 3.1],\n",
    "    'PetalLength': [1.7, 4.2, 5.4],\n",
    "    'PetalWidth': [0.5, 1.5, 2.1]\n",
    "\n",
    "    #la 1er columna seria setosa, la 2da versicolor y la 3era virginica\n",
    "}"
   ]
  }
 ],
 "metadata": {
  "kernelspec": {
   "display_name": "Python 3",
   "language": "python",
   "name": "python3"
  },
  "language_info": {
   "codemirror_mode": {
    "name": "ipython",
    "version": 3
   },
   "file_extension": ".py",
   "mimetype": "text/x-python",
   "name": "python",
   "nbconvert_exporter": "python",
   "pygments_lexer": "ipython3",
   "version": "3.11.9"
  }
 },
 "nbformat": 4,
 "nbformat_minor": 2
}
