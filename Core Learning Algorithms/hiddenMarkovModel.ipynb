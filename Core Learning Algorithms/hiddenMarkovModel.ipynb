{
 "cells": [
  {
   "cell_type": "code",
   "execution_count": 1,
   "metadata": {},
   "outputs": [
    {
     "name": "stdout",
     "output_type": "stream",
     "text": [
      "WARNING:tensorflow:From c:\\Users\\VICTUS\\anaconda3\\Lib\\site-packages\\tf_keras\\src\\losses.py:2976: The name tf.losses.sparse_softmax_cross_entropy is deprecated. Please use tf.compat.v1.losses.sparse_softmax_cross_entropy instead.\n",
      "\n",
      "WARNING:tensorflow:From c:\\Users\\VICTUS\\anaconda3\\Lib\\site-packages\\tensorflow_probability\\python\\internal\\backend\\numpy\\_utils.py:48: The name tf.logging.TaskLevelStatusMessage is deprecated. Please use tf.compat.v1.logging.TaskLevelStatusMessage instead.\n",
      "\n",
      "WARNING:tensorflow:From c:\\Users\\VICTUS\\anaconda3\\Lib\\site-packages\\tensorflow_probability\\python\\internal\\backend\\numpy\\_utils.py:48: The name tf.control_flow_v2_enabled is deprecated. Please use tf.compat.v1.control_flow_v2_enabled instead.\n",
      "\n",
      "TensorFlow version: 2.17.0\n",
      "TensorFlow Probability version: 0.24.0\n"
     ]
    }
   ],
   "source": [
    "import tensorflow as tf\n",
    "import tensorflow_probability as tfp\n",
    "\n",
    "print(\"TensorFlow version:\", tf.__version__)\n",
    "print(\"TensorFlow Probability version:\", tfp.__version__)"
   ]
  },
  {
   "cell_type": "markdown",
   "metadata": {},
   "source": [
    "Context\n",
    "1. Cold days are encoded by a 0 and hot days are encoded by a 1\n",
    "2. The first day in our sequence has an 80% chance of being cold\n",
    "3. A cold day has a 30% chance of being followed by a hot day\n",
    "4. A hot day has a 20% chance of being followed by a cold day\n",
    "5. On each day the temperature is normally distributed with mean and standard deviation 0 and 5 on a cold day and mean and standard deviation 15 and 10 on a hot day"
   ]
  },
  {
   "cell_type": "markdown",
   "metadata": {},
   "source": [
    "We want to predict the average temperature"
   ]
  },
  {
   "cell_type": "markdown",
   "metadata": {},
   "source": [
    "### Creating distribution variables"
   ]
  },
  {
   "cell_type": "code",
   "execution_count": 5,
   "metadata": {},
   "outputs": [],
   "source": [
    "tfd = tfp.distributions #making a shortcut\n",
    "initial_distribution = tfd.Categorical(probs=[0.8,0.2]) #refers to point 2, initial state\n",
    "transition_distribution = tfd.Categorical(probs=[[0.7,0.3], #S1, probabilities of transitions\n",
    "                                                  [0.2,0.8]]) #S2\n",
    "observation_distribution = tfd.Normal(loc=[0., 15.], scale=[5., 10.]) #the loc represents the mean temperature and the scale is the standard desviation\n",
    "#en el estado 1 la media de temperatura es 0, y en el estado 2 la media es 15\n",
    "#en el estado 1 la desviacion estandar es 5, y en el estado 2 la desviacion estandar es 10\n"
   ]
  },
  {
   "cell_type": "markdown",
   "metadata": {},
   "source": [
    "### Creating the hidden markov model"
   ]
  },
  {
   "cell_type": "markdown",
   "metadata": {},
   "source": [
    "Un modelo oculto de Márkov o HMM es un modelo estadístico en el que se asume que el sistema a modelar es un proceso de Márkov de parámetros desconocidos. El objetivo es determinar los parámetros desconocidos de dicha cadena a partir de los parámetros observables."
   ]
  },
  {
   "cell_type": "code",
   "execution_count": 9,
   "metadata": {},
   "outputs": [],
   "source": [
    "model = tfd.HiddenMarkovModel(\n",
    "    initial_distribution = initial_distribution, #probability distribution os the initial hidden states\n",
    "    transition_distribution = transition_distribution, #probability distributions of the state transitions\n",
    "    observation_distribution = observation_distribution, #how observations are distributed given the hidden state\n",
    "    num_steps = 7 #how many days we want to predict\n",
    ")"
   ]
  },
  {
   "cell_type": "markdown",
   "metadata": {},
   "source": [
    "### Getting the expected temperatures"
   ]
  },
  {
   "cell_type": "markdown",
   "metadata": {},
   "source": [
    "Symbolic Tensors: TensorFlow often deals with tensors symbolically, meaning they describe computations but do not have specific values until you run them within a session or an execution environment.\n",
    "Deferred Computation: TensorFlow's computational graph allows for deferred computation. The actual values of tensors are only computed when you explicitly evaluate them in a session or within an eager execution environment."
   ]
  },
  {
   "cell_type": "code",
   "execution_count": 11,
   "metadata": {},
   "outputs": [
    {
     "name": "stdout",
     "output_type": "stream",
     "text": [
      "[3.        5.9999995 7.4999995 8.25      8.625001  8.812501  8.90625  ]\n"
     ]
    }
   ],
   "source": [
    "mean = model.mean() #partially defined tensors\n",
    "#devuelve un tensor que representa el valor esperado de la media de las observaciones segun el modelo\n",
    "\n",
    "#partially defined tensor: tensor parcialmente definido (no tiene un valor concreto hasta que se evalua dentro de un contexto de ejecucion)\n",
    "\n",
    "#due to the way TensorFlow works on a lower level we need to evaluate part of the graph\n",
    "#from within a session to see the value of this tensor\n",
    "\n",
    "with tf.compat.v1.Session() as sess: #crea una sesion de tensorflow dentro de un contexto de administracion de recursos\n",
    "    print(mean.numpy()) #convierte el tensor en un array de numpy"
   ]
  },
  {
   "cell_type": "markdown",
   "metadata": {},
   "source": [
    "[3.        5.9999995 7.4999995 8.25      8.625001  8.812501  8.90625  ] this are the expected temperatures for the following 7 days"
   ]
  }
 ],
 "metadata": {
  "kernelspec": {
   "display_name": "base",
   "language": "python",
   "name": "python3"
  },
  "language_info": {
   "codemirror_mode": {
    "name": "ipython",
    "version": 3
   },
   "file_extension": ".py",
   "mimetype": "text/x-python",
   "name": "python",
   "nbconvert_exporter": "python",
   "pygments_lexer": "ipython3",
   "version": "3.11.5"
  }
 },
 "nbformat": 4,
 "nbformat_minor": 2
}
