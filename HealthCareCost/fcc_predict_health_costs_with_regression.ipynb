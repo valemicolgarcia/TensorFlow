{
  "cells": [
    {
      "cell_type": "code",
      "execution_count": 1,
      "metadata": {
        "id": "1rRo8oNqZ-Rj"
      },
      "outputs": [
        {
          "name": "stdout",
          "output_type": "stream",
          "text": [
            "WARNING:tensorflow:From c:\\Users\\VICTUS\\anaconda3\\Lib\\site-packages\\keras\\src\\losses.py:2976: The name tf.losses.sparse_softmax_cross_entropy is deprecated. Please use tf.compat.v1.losses.sparse_softmax_cross_entropy instead.\n",
            "\n"
          ]
        }
      ],
      "source": [
        "# Import libraries. You may or may not use all of these.\n",
        "!pip install -q git+https://github.com/tensorflow/docs\n",
        "import matplotlib.pyplot as plt\n",
        "import numpy as np\n",
        "import pandas as pd\n",
        "\n",
        "try:\n",
        "  # %tensorflow_version only exists in Colab.\n",
        "  %tensorflow_version 2.x\n",
        "except Exception:\n",
        "  pass\n",
        "import tensorflow as tf\n",
        "\n",
        "from tensorflow import keras\n",
        "from tensorflow.keras import layers\n",
        "\n",
        "import tensorflow_docs as tfdocs\n",
        "import tensorflow_docs.plots\n",
        "import tensorflow_docs.modeling"
      ]
    },
    {
      "cell_type": "code",
      "execution_count": 2,
      "metadata": {},
      "outputs": [],
      "source": [
        "from __future__ import absolute_import, division, print_function, unicode_literals\n",
        "\n",
        "import numpy as np\n",
        "import pandas as pd\n",
        "import matplotlib.pyplot as plt\n",
        "from IPython.display import clear_output\n",
        "from six.moves import urllib\n",
        "import tensorflow.compat.v2.feature_column as fc"
      ]
    },
    {
      "cell_type": "code",
      "execution_count": 3,
      "metadata": {},
      "outputs": [
        {
          "name": "stdout",
          "output_type": "stream",
          "text": [
            "2.15.1\n"
          ]
        }
      ],
      "source": [
        "print (tf.__version__)"
      ]
    },
    {
      "cell_type": "code",
      "execution_count": 4,
      "metadata": {
        "id": "CiX2FI4gZtTt"
      },
      "outputs": [
        {
          "data": {
            "text/html": [
              "<div>\n",
              "<style scoped>\n",
              "    .dataframe tbody tr th:only-of-type {\n",
              "        vertical-align: middle;\n",
              "    }\n",
              "\n",
              "    .dataframe tbody tr th {\n",
              "        vertical-align: top;\n",
              "    }\n",
              "\n",
              "    .dataframe thead th {\n",
              "        text-align: right;\n",
              "    }\n",
              "</style>\n",
              "<table border=\"1\" class=\"dataframe\">\n",
              "  <thead>\n",
              "    <tr style=\"text-align: right;\">\n",
              "      <th></th>\n",
              "      <th>age</th>\n",
              "      <th>sex</th>\n",
              "      <th>bmi</th>\n",
              "      <th>children</th>\n",
              "      <th>smoker</th>\n",
              "      <th>region</th>\n",
              "      <th>expenses</th>\n",
              "    </tr>\n",
              "  </thead>\n",
              "  <tbody>\n",
              "    <tr>\n",
              "      <th>1333</th>\n",
              "      <td>50</td>\n",
              "      <td>male</td>\n",
              "      <td>31.0</td>\n",
              "      <td>3</td>\n",
              "      <td>no</td>\n",
              "      <td>northwest</td>\n",
              "      <td>10600.55</td>\n",
              "    </tr>\n",
              "    <tr>\n",
              "      <th>1334</th>\n",
              "      <td>18</td>\n",
              "      <td>female</td>\n",
              "      <td>31.9</td>\n",
              "      <td>0</td>\n",
              "      <td>no</td>\n",
              "      <td>northeast</td>\n",
              "      <td>2205.98</td>\n",
              "    </tr>\n",
              "    <tr>\n",
              "      <th>1335</th>\n",
              "      <td>18</td>\n",
              "      <td>female</td>\n",
              "      <td>36.9</td>\n",
              "      <td>0</td>\n",
              "      <td>no</td>\n",
              "      <td>southeast</td>\n",
              "      <td>1629.83</td>\n",
              "    </tr>\n",
              "    <tr>\n",
              "      <th>1336</th>\n",
              "      <td>21</td>\n",
              "      <td>female</td>\n",
              "      <td>25.8</td>\n",
              "      <td>0</td>\n",
              "      <td>no</td>\n",
              "      <td>southwest</td>\n",
              "      <td>2007.95</td>\n",
              "    </tr>\n",
              "    <tr>\n",
              "      <th>1337</th>\n",
              "      <td>61</td>\n",
              "      <td>female</td>\n",
              "      <td>29.1</td>\n",
              "      <td>0</td>\n",
              "      <td>yes</td>\n",
              "      <td>northwest</td>\n",
              "      <td>29141.36</td>\n",
              "    </tr>\n",
              "  </tbody>\n",
              "</table>\n",
              "</div>"
            ],
            "text/plain": [
              "      age     sex   bmi  children smoker     region  expenses\n",
              "1333   50    male  31.0         3     no  northwest  10600.55\n",
              "1334   18  female  31.9         0     no  northeast   2205.98\n",
              "1335   18  female  36.9         0     no  southeast   1629.83\n",
              "1336   21  female  25.8         0     no  southwest   2007.95\n",
              "1337   61  female  29.1         0    yes  northwest  29141.36"
            ]
          },
          "execution_count": 4,
          "metadata": {},
          "output_type": "execute_result"
        }
      ],
      "source": [
        "# Import data\n",
        "#!wget https://cdn.freecodecamp.org/project-data/health-costs/insurance.csv\n",
        "df = pd.read_csv('https://raw.githubusercontent.com/valemicolgarcia/TensorFlow/main/HealthCareCost/insurance.csv')\n",
        "df.tail()"
      ]
    },
    {
      "cell_type": "markdown",
      "metadata": {},
      "source": [
        "-----------------------------------------------------------------------------"
      ]
    },
    {
      "cell_type": "code",
      "execution_count": 5,
      "metadata": {
        "id": "LcopvQh3X-kX"
      },
      "outputs": [
        {
          "name": "stdout",
          "output_type": "stream",
          "text": [
            "<class 'pandas.core.frame.DataFrame'>\n",
            "RangeIndex: 1338 entries, 0 to 1337\n",
            "Data columns (total 7 columns):\n",
            " #   Column    Non-Null Count  Dtype  \n",
            "---  ------    --------------  -----  \n",
            " 0   age       1338 non-null   int64  \n",
            " 1   sex       1338 non-null   object \n",
            " 2   bmi       1338 non-null   float64\n",
            " 3   children  1338 non-null   int64  \n",
            " 4   smoker    1338 non-null   object \n",
            " 5   region    1338 non-null   object \n",
            " 6   expenses  1338 non-null   float64\n",
            "dtypes: float64(2), int64(2), object(3)\n",
            "memory usage: 73.3+ KB\n"
          ]
        }
      ],
      "source": [
        "df.info()"
      ]
    },
    {
      "cell_type": "code",
      "execution_count": 35,
      "metadata": {},
      "outputs": [
        {
          "data": {
            "text/plain": [
              "age         0\n",
              "sex         0\n",
              "bmi         0\n",
              "children    0\n",
              "smoker      0\n",
              "region      0\n",
              "expenses    0\n",
              "dtype: int64"
            ]
          },
          "execution_count": 35,
          "metadata": {},
          "output_type": "execute_result"
        }
      ],
      "source": [
        "df.isnull().sum()"
      ]
    },
    {
      "cell_type": "code",
      "execution_count": 6,
      "metadata": {},
      "outputs": [
        {
          "data": {
            "text/plain": [
              "0    16884.92\n",
              "1     1725.55\n",
              "2     4449.46\n",
              "3    21984.47\n",
              "4     3866.86\n",
              "Name: expenses, dtype: float64"
            ]
          },
          "execution_count": 6,
          "metadata": {},
          "output_type": "execute_result"
        }
      ],
      "source": [
        "Y_df = df['expenses']\n",
        "Y_df.head()"
      ]
    },
    {
      "cell_type": "code",
      "execution_count": 7,
      "metadata": {},
      "outputs": [
        {
          "data": {
            "text/html": [
              "<div>\n",
              "<style scoped>\n",
              "    .dataframe tbody tr th:only-of-type {\n",
              "        vertical-align: middle;\n",
              "    }\n",
              "\n",
              "    .dataframe tbody tr th {\n",
              "        vertical-align: top;\n",
              "    }\n",
              "\n",
              "    .dataframe thead th {\n",
              "        text-align: right;\n",
              "    }\n",
              "</style>\n",
              "<table border=\"1\" class=\"dataframe\">\n",
              "  <thead>\n",
              "    <tr style=\"text-align: right;\">\n",
              "      <th></th>\n",
              "      <th>age</th>\n",
              "      <th>sex</th>\n",
              "      <th>bmi</th>\n",
              "      <th>children</th>\n",
              "      <th>smoker</th>\n",
              "      <th>region</th>\n",
              "    </tr>\n",
              "  </thead>\n",
              "  <tbody>\n",
              "    <tr>\n",
              "      <th>0</th>\n",
              "      <td>19</td>\n",
              "      <td>female</td>\n",
              "      <td>27.9</td>\n",
              "      <td>0</td>\n",
              "      <td>yes</td>\n",
              "      <td>southwest</td>\n",
              "    </tr>\n",
              "    <tr>\n",
              "      <th>1</th>\n",
              "      <td>18</td>\n",
              "      <td>male</td>\n",
              "      <td>33.8</td>\n",
              "      <td>1</td>\n",
              "      <td>no</td>\n",
              "      <td>southeast</td>\n",
              "    </tr>\n",
              "    <tr>\n",
              "      <th>2</th>\n",
              "      <td>28</td>\n",
              "      <td>male</td>\n",
              "      <td>33.0</td>\n",
              "      <td>3</td>\n",
              "      <td>no</td>\n",
              "      <td>southeast</td>\n",
              "    </tr>\n",
              "    <tr>\n",
              "      <th>3</th>\n",
              "      <td>33</td>\n",
              "      <td>male</td>\n",
              "      <td>22.7</td>\n",
              "      <td>0</td>\n",
              "      <td>no</td>\n",
              "      <td>northwest</td>\n",
              "    </tr>\n",
              "    <tr>\n",
              "      <th>4</th>\n",
              "      <td>32</td>\n",
              "      <td>male</td>\n",
              "      <td>28.9</td>\n",
              "      <td>0</td>\n",
              "      <td>no</td>\n",
              "      <td>northwest</td>\n",
              "    </tr>\n",
              "  </tbody>\n",
              "</table>\n",
              "</div>"
            ],
            "text/plain": [
              "   age     sex   bmi  children smoker     region\n",
              "0   19  female  27.9         0    yes  southwest\n",
              "1   18    male  33.8         1     no  southeast\n",
              "2   28    male  33.0         3     no  southeast\n",
              "3   33    male  22.7         0     no  northwest\n",
              "4   32    male  28.9         0     no  northwest"
            ]
          },
          "execution_count": 7,
          "metadata": {},
          "output_type": "execute_result"
        }
      ],
      "source": [
        "X_df = df.drop(columns='expenses')\n",
        "X_df.head()"
      ]
    },
    {
      "cell_type": "code",
      "execution_count": 8,
      "metadata": {},
      "outputs": [],
      "source": [
        "CATEGORICAL = ['sex', 'smoker', 'region']\n",
        "NUMERIC = ['age', 'bmi', 'children']"
      ]
    },
    {
      "cell_type": "code",
      "execution_count": 9,
      "metadata": {},
      "outputs": [
        {
          "data": {
            "text/html": [
              "<div>\n",
              "<style scoped>\n",
              "    .dataframe tbody tr th:only-of-type {\n",
              "        vertical-align: middle;\n",
              "    }\n",
              "\n",
              "    .dataframe tbody tr th {\n",
              "        vertical-align: top;\n",
              "    }\n",
              "\n",
              "    .dataframe thead th {\n",
              "        text-align: right;\n",
              "    }\n",
              "</style>\n",
              "<table border=\"1\" class=\"dataframe\">\n",
              "  <thead>\n",
              "    <tr style=\"text-align: right;\">\n",
              "      <th></th>\n",
              "      <th>age</th>\n",
              "      <th>sex</th>\n",
              "      <th>bmi</th>\n",
              "      <th>children</th>\n",
              "      <th>smoker</th>\n",
              "      <th>region</th>\n",
              "    </tr>\n",
              "  </thead>\n",
              "  <tbody>\n",
              "    <tr>\n",
              "      <th>0</th>\n",
              "      <td>19</td>\n",
              "      <td>0</td>\n",
              "      <td>27.9</td>\n",
              "      <td>0</td>\n",
              "      <td>1</td>\n",
              "      <td>3</td>\n",
              "    </tr>\n",
              "    <tr>\n",
              "      <th>1</th>\n",
              "      <td>18</td>\n",
              "      <td>1</td>\n",
              "      <td>33.8</td>\n",
              "      <td>1</td>\n",
              "      <td>0</td>\n",
              "      <td>2</td>\n",
              "    </tr>\n",
              "    <tr>\n",
              "      <th>2</th>\n",
              "      <td>28</td>\n",
              "      <td>1</td>\n",
              "      <td>33.0</td>\n",
              "      <td>3</td>\n",
              "      <td>0</td>\n",
              "      <td>2</td>\n",
              "    </tr>\n",
              "    <tr>\n",
              "      <th>3</th>\n",
              "      <td>33</td>\n",
              "      <td>1</td>\n",
              "      <td>22.7</td>\n",
              "      <td>0</td>\n",
              "      <td>0</td>\n",
              "      <td>1</td>\n",
              "    </tr>\n",
              "    <tr>\n",
              "      <th>4</th>\n",
              "      <td>32</td>\n",
              "      <td>1</td>\n",
              "      <td>28.9</td>\n",
              "      <td>0</td>\n",
              "      <td>0</td>\n",
              "      <td>1</td>\n",
              "    </tr>\n",
              "  </tbody>\n",
              "</table>\n",
              "</div>"
            ],
            "text/plain": [
              "   age  sex   bmi  children  smoker  region\n",
              "0   19    0  27.9         0       1       3\n",
              "1   18    1  33.8         1       0       2\n",
              "2   28    1  33.0         3       0       2\n",
              "3   33    1  22.7         0       0       1\n",
              "4   32    1  28.9         0       0       1"
            ]
          },
          "execution_count": 9,
          "metadata": {},
          "output_type": "execute_result"
        }
      ],
      "source": [
        "from sklearn.preprocessing import LabelEncoder\n",
        "label_encoder = LabelEncoder()\n",
        "for column in CATEGORICAL:\n",
        "    label_encoder.fit([column])\n",
        "    X_df[column] = label_encoder.fit_transform(X_df[column])\n",
        "\n",
        "X_df.head()"
      ]
    },
    {
      "cell_type": "markdown",
      "metadata": {},
      "source": [
        "### Training vs testing data"
      ]
    },
    {
      "cell_type": "code",
      "execution_count": 10,
      "metadata": {},
      "outputs": [],
      "source": [
        "from sklearn.model_selection import train_test_split\n",
        "X_train_df, X_test_df = train_test_split(X_df, test_size=0.2, random_state=42)\n",
        "Y_train_df, Y_test_df = train_test_split(Y_df, test_size=0.2, random_state=42)"
      ]
    },
    {
      "cell_type": "markdown",
      "metadata": {},
      "source": [
        "### Training process"
      ]
    },
    {
      "cell_type": "code",
      "execution_count": 25,
      "metadata": {},
      "outputs": [],
      "source": [
        "from sklearn.preprocessing import StandardScaler\n",
        "\n",
        "# Inicializa el escalador\n",
        "scaler = StandardScaler()\n",
        "\n",
        "# Ajusta el escalador solo con el conjunto de entrenamiento y transforma los datos\n",
        "X_train_scaled = scaler.fit_transform(X_train_df)\n",
        "\n",
        "# Transforma el conjunto de prueba\n",
        "X_test_scaled = scaler.transform(X_test_df)\n"
      ]
    },
    {
      "cell_type": "markdown",
      "metadata": {},
      "source": [
        "### Creating the model"
      ]
    },
    {
      "cell_type": "code",
      "execution_count": 41,
      "metadata": {},
      "outputs": [
        {
          "name": "stdout",
          "output_type": "stream",
          "text": [
            "Epoch 1/50\n",
            "54/54 [==============================] - 1s 7ms/step - loss: 325317312.0000 - mean_absolute_error: 13513.6367 - mean_squared_error: 325317312.0000 - val_loss: 309845568.0000 - val_mean_absolute_error: 12637.5361 - val_mean_squared_error: 309845568.0000\n",
            "Epoch 2/50\n",
            "54/54 [==============================] - 0s 3ms/step - loss: 322856224.0000 - mean_absolute_error: 13440.2500 - mean_squared_error: 322856224.0000 - val_loss: 304181344.0000 - val_mean_absolute_error: 12461.2793 - val_mean_squared_error: 304181344.0000\n",
            "Epoch 3/50\n",
            "54/54 [==============================] - 0s 3ms/step - loss: 307508960.0000 - mean_absolute_error: 12994.3848 - mean_squared_error: 307508960.0000 - val_loss: 276657536.0000 - val_mean_absolute_error: 11650.7012 - val_mean_squared_error: 276657536.0000\n",
            "Epoch 4/50\n",
            "54/54 [==============================] - 0s 3ms/step - loss: 255845808.0000 - mean_absolute_error: 11507.3691 - mean_squared_error: 255845808.0000 - val_loss: 205832464.0000 - val_mean_absolute_error: 9487.2334 - val_mean_squared_error: 205832464.0000\n",
            "Epoch 5/50\n",
            "54/54 [==============================] - 0s 3ms/step - loss: 159597248.0000 - mean_absolute_error: 8378.6064 - mean_squared_error: 159597248.0000 - val_loss: 105823040.0000 - val_mean_absolute_error: 6167.0869 - val_mean_squared_error: 105823040.0000\n",
            "Epoch 6/50\n",
            "54/54 [==============================] - 0s 3ms/step - loss: 69891480.0000 - mean_absolute_error: 5281.0674 - mean_squared_error: 69891480.0000 - val_loss: 48908436.0000 - val_mean_absolute_error: 4494.4038 - val_mean_squared_error: 48908436.0000\n",
            "Epoch 7/50\n",
            "54/54 [==============================] - 0s 3ms/step - loss: 41874744.0000 - mean_absolute_error: 4503.0400 - mean_squared_error: 41874744.0000 - val_loss: 38467520.0000 - val_mean_absolute_error: 4396.2476 - val_mean_squared_error: 38467520.0000\n",
            "Epoch 8/50\n",
            "54/54 [==============================] - 0s 4ms/step - loss: 37757284.0000 - mean_absolute_error: 4512.4102 - mean_squared_error: 37757284.0000 - val_loss: 35408212.0000 - val_mean_absolute_error: 4187.9072 - val_mean_squared_error: 35408212.0000\n",
            "Epoch 9/50\n",
            "54/54 [==============================] - 0s 3ms/step - loss: 36239508.0000 - mean_absolute_error: 4305.9595 - mean_squared_error: 36239508.0000 - val_loss: 34038816.0000 - val_mean_absolute_error: 4045.5359 - val_mean_squared_error: 34038816.0000\n",
            "Epoch 10/50\n",
            "54/54 [==============================] - 0s 3ms/step - loss: 35474128.0000 - mean_absolute_error: 4202.5063 - mean_squared_error: 35474128.0000 - val_loss: 33165296.0000 - val_mean_absolute_error: 3947.6433 - val_mean_squared_error: 33165296.0000\n",
            "Epoch 11/50\n",
            "54/54 [==============================] - 0s 3ms/step - loss: 34971388.0000 - mean_absolute_error: 4106.0034 - mean_squared_error: 34971388.0000 - val_loss: 32858274.0000 - val_mean_absolute_error: 3860.1782 - val_mean_squared_error: 32858274.0000\n",
            "Epoch 12/50\n",
            "54/54 [==============================] - 0s 3ms/step - loss: 34638340.0000 - mean_absolute_error: 4056.9436 - mean_squared_error: 34638340.0000 - val_loss: 32454356.0000 - val_mean_absolute_error: 3803.7634 - val_mean_squared_error: 32454356.0000\n",
            "Epoch 13/50\n",
            "54/54 [==============================] - 0s 3ms/step - loss: 34390632.0000 - mean_absolute_error: 4013.9436 - mean_squared_error: 34390632.0000 - val_loss: 32269032.0000 - val_mean_absolute_error: 3743.7012 - val_mean_squared_error: 32269032.0000\n",
            "Epoch 14/50\n",
            "54/54 [==============================] - 0s 3ms/step - loss: 34097412.0000 - mean_absolute_error: 3963.7375 - mean_squared_error: 34097412.0000 - val_loss: 31980240.0000 - val_mean_absolute_error: 3699.6946 - val_mean_squared_error: 31980240.0000\n",
            "Epoch 15/50\n",
            "54/54 [==============================] - 0s 3ms/step - loss: 33818804.0000 - mean_absolute_error: 3946.3220 - mean_squared_error: 33818804.0000 - val_loss: 31822848.0000 - val_mean_absolute_error: 3702.3770 - val_mean_squared_error: 31822848.0000\n",
            "Epoch 16/50\n",
            "54/54 [==============================] - 0s 3ms/step - loss: 33645760.0000 - mean_absolute_error: 3916.3508 - mean_squared_error: 33645760.0000 - val_loss: 31717336.0000 - val_mean_absolute_error: 3663.3037 - val_mean_squared_error: 31717336.0000\n",
            "Epoch 17/50\n",
            "54/54 [==============================] - 0s 3ms/step - loss: 33583620.0000 - mean_absolute_error: 3915.3923 - mean_squared_error: 33583620.0000 - val_loss: 31599760.0000 - val_mean_absolute_error: 3630.6057 - val_mean_squared_error: 31599760.0000\n",
            "Epoch 18/50\n",
            "54/54 [==============================] - 0s 3ms/step - loss: 33361908.0000 - mean_absolute_error: 3854.7234 - mean_squared_error: 33361908.0000 - val_loss: 31311222.0000 - val_mean_absolute_error: 3633.7092 - val_mean_squared_error: 31311222.0000\n",
            "Epoch 19/50\n",
            "54/54 [==============================] - 0s 3ms/step - loss: 33009740.0000 - mean_absolute_error: 3875.4163 - mean_squared_error: 33009740.0000 - val_loss: 31177724.0000 - val_mean_absolute_error: 3611.2524 - val_mean_squared_error: 31177724.0000\n",
            "Epoch 20/50\n",
            "54/54 [==============================] - 0s 3ms/step - loss: 32819026.0000 - mean_absolute_error: 3807.4431 - mean_squared_error: 32819026.0000 - val_loss: 30974234.0000 - val_mean_absolute_error: 3606.2141 - val_mean_squared_error: 30974234.0000\n",
            "Epoch 21/50\n",
            "54/54 [==============================] - 0s 3ms/step - loss: 32616878.0000 - mean_absolute_error: 3828.6758 - mean_squared_error: 32616878.0000 - val_loss: 30867164.0000 - val_mean_absolute_error: 3570.5166 - val_mean_squared_error: 30867164.0000\n",
            "Epoch 22/50\n",
            "54/54 [==============================] - 0s 3ms/step - loss: 32466666.0000 - mean_absolute_error: 3797.8481 - mean_squared_error: 32466666.0000 - val_loss: 30882126.0000 - val_mean_absolute_error: 3570.6794 - val_mean_squared_error: 30882126.0000\n",
            "Epoch 23/50\n",
            "54/54 [==============================] - 0s 3ms/step - loss: 32194730.0000 - mean_absolute_error: 3756.9512 - mean_squared_error: 32194730.0000 - val_loss: 30529500.0000 - val_mean_absolute_error: 3546.0481 - val_mean_squared_error: 30529500.0000\n",
            "Epoch 24/50\n",
            "54/54 [==============================] - 0s 3ms/step - loss: 31983518.0000 - mean_absolute_error: 3737.5540 - mean_squared_error: 31983518.0000 - val_loss: 30373342.0000 - val_mean_absolute_error: 3537.4370 - val_mean_squared_error: 30373342.0000\n",
            "Epoch 25/50\n",
            "54/54 [==============================] - 0s 3ms/step - loss: 31864836.0000 - mean_absolute_error: 3753.1631 - mean_squared_error: 31864836.0000 - val_loss: 30207780.0000 - val_mean_absolute_error: 3527.8708 - val_mean_squared_error: 30207780.0000\n",
            "Epoch 26/50\n",
            "54/54 [==============================] - 0s 3ms/step - loss: 31704164.0000 - mean_absolute_error: 3690.1643 - mean_squared_error: 31704164.0000 - val_loss: 30055322.0000 - val_mean_absolute_error: 3525.7380 - val_mean_squared_error: 30055322.0000\n",
            "Epoch 27/50\n",
            "54/54 [==============================] - 0s 3ms/step - loss: 31498566.0000 - mean_absolute_error: 3689.0088 - mean_squared_error: 31498566.0000 - val_loss: 30022648.0000 - val_mean_absolute_error: 3501.7996 - val_mean_squared_error: 30022648.0000\n",
            "Epoch 28/50\n",
            "54/54 [==============================] - 0s 3ms/step - loss: 31326230.0000 - mean_absolute_error: 3696.8391 - mean_squared_error: 31326230.0000 - val_loss: 30009282.0000 - val_mean_absolute_error: 3481.6772 - val_mean_squared_error: 30009282.0000\n",
            "Epoch 29/50\n",
            "54/54 [==============================] - 0s 3ms/step - loss: 31070290.0000 - mean_absolute_error: 3626.5132 - mean_squared_error: 31070290.0000 - val_loss: 29616150.0000 - val_mean_absolute_error: 3479.4890 - val_mean_squared_error: 29616150.0000\n",
            "Epoch 30/50\n",
            "54/54 [==============================] - 0s 3ms/step - loss: 30813480.0000 - mean_absolute_error: 3634.0132 - mean_squared_error: 30813480.0000 - val_loss: 29277890.0000 - val_mean_absolute_error: 3482.0264 - val_mean_squared_error: 29277890.0000\n",
            "Epoch 31/50\n",
            "54/54 [==============================] - 0s 3ms/step - loss: 30681030.0000 - mean_absolute_error: 3646.7429 - mean_squared_error: 30681030.0000 - val_loss: 29122242.0000 - val_mean_absolute_error: 3510.4988 - val_mean_squared_error: 29122242.0000\n",
            "Epoch 32/50\n",
            "54/54 [==============================] - 0s 4ms/step - loss: 30485744.0000 - mean_absolute_error: 3630.9817 - mean_squared_error: 30485744.0000 - val_loss: 29043874.0000 - val_mean_absolute_error: 3444.8582 - val_mean_squared_error: 29043874.0000\n",
            "Epoch 33/50\n",
            "54/54 [==============================] - 0s 3ms/step - loss: 30255324.0000 - mean_absolute_error: 3588.2886 - mean_squared_error: 30255324.0000 - val_loss: 28971060.0000 - val_mean_absolute_error: 3430.2354 - val_mean_squared_error: 28971060.0000\n",
            "Epoch 34/50\n",
            "54/54 [==============================] - 0s 3ms/step - loss: 30043918.0000 - mean_absolute_error: 3575.5300 - mean_squared_error: 30043918.0000 - val_loss: 28752228.0000 - val_mean_absolute_error: 3441.6494 - val_mean_squared_error: 28752228.0000\n",
            "Epoch 35/50\n",
            "54/54 [==============================] - 0s 3ms/step - loss: 29840190.0000 - mean_absolute_error: 3547.6887 - mean_squared_error: 29840190.0000 - val_loss: 28734478.0000 - val_mean_absolute_error: 3389.5532 - val_mean_squared_error: 28734478.0000\n",
            "Epoch 36/50\n",
            "54/54 [==============================] - 0s 3ms/step - loss: 29687406.0000 - mean_absolute_error: 3537.9062 - mean_squared_error: 29687406.0000 - val_loss: 28349742.0000 - val_mean_absolute_error: 3389.2139 - val_mean_squared_error: 28349742.0000\n",
            "Epoch 37/50\n",
            "54/54 [==============================] - 0s 3ms/step - loss: 29517508.0000 - mean_absolute_error: 3510.8044 - mean_squared_error: 29517508.0000 - val_loss: 28313822.0000 - val_mean_absolute_error: 3346.4612 - val_mean_squared_error: 28313822.0000\n",
            "Epoch 38/50\n",
            "54/54 [==============================] - 0s 3ms/step - loss: 29324524.0000 - mean_absolute_error: 3472.5830 - mean_squared_error: 29324524.0000 - val_loss: 27873852.0000 - val_mean_absolute_error: 3393.2732 - val_mean_squared_error: 27873852.0000\n",
            "Epoch 39/50\n",
            "54/54 [==============================] - 0s 4ms/step - loss: 29178760.0000 - mean_absolute_error: 3497.5771 - mean_squared_error: 29178760.0000 - val_loss: 27917296.0000 - val_mean_absolute_error: 3374.0208 - val_mean_squared_error: 27917296.0000\n",
            "Epoch 40/50\n",
            "54/54 [==============================] - 0s 3ms/step - loss: 29045276.0000 - mean_absolute_error: 3511.9290 - mean_squared_error: 29045276.0000 - val_loss: 28024038.0000 - val_mean_absolute_error: 3307.5190 - val_mean_squared_error: 28024038.0000\n",
            "Epoch 41/50\n",
            "54/54 [==============================] - 0s 3ms/step - loss: 28924262.0000 - mean_absolute_error: 3451.0132 - mean_squared_error: 28924262.0000 - val_loss: 27620510.0000 - val_mean_absolute_error: 3290.0830 - val_mean_squared_error: 27620510.0000\n",
            "Epoch 42/50\n",
            "54/54 [==============================] - 0s 4ms/step - loss: 28738228.0000 - mean_absolute_error: 3423.0977 - mean_squared_error: 28738228.0000 - val_loss: 27358672.0000 - val_mean_absolute_error: 3311.7139 - val_mean_squared_error: 27358672.0000\n",
            "Epoch 43/50\n",
            "54/54 [==============================] - 0s 3ms/step - loss: 28554792.0000 - mean_absolute_error: 3412.8433 - mean_squared_error: 28554792.0000 - val_loss: 27060002.0000 - val_mean_absolute_error: 3312.9966 - val_mean_squared_error: 27060002.0000\n",
            "Epoch 44/50\n",
            "54/54 [==============================] - 0s 3ms/step - loss: 28501850.0000 - mean_absolute_error: 3429.2131 - mean_squared_error: 28501850.0000 - val_loss: 26979820.0000 - val_mean_absolute_error: 3291.7244 - val_mean_squared_error: 26979820.0000\n",
            "Epoch 45/50\n",
            "54/54 [==============================] - 0s 3ms/step - loss: 28308368.0000 - mean_absolute_error: 3359.2427 - mean_squared_error: 28308368.0000 - val_loss: 26760560.0000 - val_mean_absolute_error: 3271.6531 - val_mean_squared_error: 26760560.0000\n",
            "Epoch 46/50\n",
            "54/54 [==============================] - 0s 4ms/step - loss: 28113942.0000 - mean_absolute_error: 3396.6372 - mean_squared_error: 28113942.0000 - val_loss: 26808130.0000 - val_mean_absolute_error: 3253.8469 - val_mean_squared_error: 26808130.0000\n",
            "Epoch 47/50\n",
            "54/54 [==============================] - 0s 3ms/step - loss: 28120258.0000 - mean_absolute_error: 3369.8516 - mean_squared_error: 28120258.0000 - val_loss: 26458418.0000 - val_mean_absolute_error: 3287.5876 - val_mean_squared_error: 26458418.0000\n",
            "Epoch 48/50\n",
            "54/54 [==============================] - 0s 3ms/step - loss: 27973550.0000 - mean_absolute_error: 3378.2080 - mean_squared_error: 27973550.0000 - val_loss: 26381154.0000 - val_mean_absolute_error: 3260.9871 - val_mean_squared_error: 26381154.0000\n",
            "Epoch 49/50\n",
            "54/54 [==============================] - 0s 3ms/step - loss: 27842576.0000 - mean_absolute_error: 3378.7310 - mean_squared_error: 27842576.0000 - val_loss: 26276652.0000 - val_mean_absolute_error: 3261.7825 - val_mean_squared_error: 26276652.0000\n",
            "Epoch 50/50\n",
            "54/54 [==============================] - 0s 3ms/step - loss: 27747430.0000 - mean_absolute_error: 3342.4617 - mean_squared_error: 27747430.0000 - val_loss: 26186934.0000 - val_mean_absolute_error: 3212.0547 - val_mean_squared_error: 26186934.0000\n"
          ]
        },
        {
          "data": {
            "text/plain": [
              "<keras.src.callbacks.History at 0x1d86bf5db50>"
            ]
          },
          "execution_count": 41,
          "metadata": {},
          "output_type": "execute_result"
        }
      ],
      "source": [
        "\n",
        "\n",
        "# modelo con Keras\n",
        "model = keras.Sequential([\n",
        "     layers.Dense(128, activation='relu', input_shape=[X_train_scaled.shape[1]]),\n",
        "    layers.Dense(64, activation='relu'),\n",
        "    layers.Dense(32, activation='relu'),\n",
        "    layers.Dense(1)\n",
        "])\n",
        "\n",
        "# Compilo el modelo\n",
        "model.compile(optimizer='adam', \n",
        "              loss='mean_squared_error',  # Pérdida para regresión\n",
        "              metrics=['mean_absolute_error', 'mean_squared_error'])\n",
        "\n",
        "# Entreno el modelo\n",
        "model.fit(X_train_scaled, Y_train_df, epochs=50, batch_size=16, validation_split=0.2) \n",
        "\n",
        "\n"
      ]
    },
    {
      "cell_type": "markdown",
      "metadata": {},
      "source": [
        "--------------------------------------------------------------------------------"
      ]
    },
    {
      "cell_type": "code",
      "execution_count": 42,
      "metadata": {
        "id": "Xe7RXH3N3CWU"
      },
      "outputs": [
        {
          "name": "stdout",
          "output_type": "stream",
          "text": [
            "9/9 - 0s - loss: 25373656.0000 - mean_absolute_error: 3286.3088 - mean_squared_error: 25373656.0000 - 60ms/epoch - 7ms/step\n",
            "Testing set Mean Abs Error: 3286.31 expenses\n",
            "You passed the challenge. Great job!\n",
            "9/9 [==============================] - 0s 2ms/step\n"
          ]
        },
        {
          "data": {
            "image/png": "[encoded data removed]",
            "text/plain": [
              "<Figure size 640x480 with 1 Axes>"
            ]
          },
          "metadata": {},
          "output_type": "display_data"
        }
      ],
      "source": [
        "# RUN THIS CELL TO TEST YOUR MODEL. DO NOT MODIFY CONTENTS.\n",
        "# Test model by checking how well the model generalizes using the test set.\n",
        "loss, mae, mse = model.evaluate(X_test_scaled, Y_test_df, verbose=2)\n",
        "\n",
        "print(\"Testing set Mean Abs Error: {:5.2f} expenses\".format(mae))\n",
        "\n",
        "if mae < 3500:\n",
        "  print(\"You passed the challenge. Great job!\")\n",
        "else:\n",
        "  print(\"The Mean Abs Error must be less than 3500. Keep trying.\")\n",
        "\n",
        "# Plot predictions.\n",
        "test_predictions = model.predict(X_test_df).flatten()\n",
        "\n",
        "a = plt.axes(aspect='equal')\n",
        "plt.scatter(Y_test_df, test_predictions)\n",
        "plt.xlabel('True values (expenses)')\n",
        "plt.ylabel('Predictions (expenses)')\n",
        "lims = [0, 50000]\n",
        "plt.xlim(lims)\n",
        "plt.ylim(lims)\n",
        "_ = plt.plot(lims,lims)\n"
      ]
    }
  ],
  "metadata": {
    "colab": {
      "name": "fcc_predict_health_costs_with_regression.ipynb",
      "private_outputs": true,
      "provenance": [],
      "toc_visible": true
    },
    "kernelspec": {
      "display_name": "Python 3",
      "name": "python3"
    },
    "language_info": {
      "codemirror_mode": {
        "name": "ipython",
        "version": 3
      },
      "file_extension": ".py",
      "mimetype": "text/x-python",
      "name": "python",
      "nbconvert_exporter": "python",
      "pygments_lexer": "ipython3",
      "version": "3.11.5"
    }
  },
  "nbformat": 4,
  "nbformat_minor": 0
}
